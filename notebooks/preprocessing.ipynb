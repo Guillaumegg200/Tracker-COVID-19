{
 "cells": [
  {
   "cell_type": "code",
   "execution_count": 1,
   "metadata": {},
   "outputs": [],
   "source": [
    "import pandas as pd\n",
    "import altair as alt\n",
    "import numpy as np\n",
    "import matplotlib.pyplot as plt\n",
    "import seaborn as sns\n",
    "from datetime import datetime\n",
    "import plotly.express as px\n",
    "import plotly.graph_objects as go"
   ]
  },
  {
   "cell_type": "markdown",
   "metadata": {},
   "source": [
    "### Preprocessing of sp-dep-jour-2023-06-30-16h26.csv \n",
    "##### First part of the dashboard"
   ]
  },
  {
   "cell_type": "code",
   "execution_count": 4,
   "metadata": {},
   "outputs": [
    {
     "data": {
      "text/html": [
       "<div>\n",
       "<style scoped>\n",
       "    .dataframe tbody tr th:only-of-type {\n",
       "        vertical-align: middle;\n",
       "    }\n",
       "\n",
       "    .dataframe tbody tr th {\n",
       "        vertical-align: top;\n",
       "    }\n",
       "\n",
       "    .dataframe thead th {\n",
       "        text-align: right;\n",
       "    }\n",
       "</style>\n",
       "<table border=\"1\" class=\"dataframe\">\n",
       "  <thead>\n",
       "    <tr style=\"text-align: right;\">\n",
       "      <th></th>\n",
       "      <th>dep</th>\n",
       "      <th>jour</th>\n",
       "      <th>pop</th>\n",
       "      <th>P</th>\n",
       "      <th>T</th>\n",
       "      <th>Ti</th>\n",
       "      <th>Tp</th>\n",
       "      <th>Td</th>\n",
       "      <th>cl_age90</th>\n",
       "    </tr>\n",
       "  </thead>\n",
       "  <tbody>\n",
       "    <tr>\n",
       "      <th>0</th>\n",
       "      <td>01</td>\n",
       "      <td>13/05/2020</td>\n",
       "      <td>656955</td>\n",
       "      <td>9</td>\n",
       "      <td>340</td>\n",
       "      <td>1,37</td>\n",
       "      <td>2,65</td>\n",
       "      <td>51,75</td>\n",
       "      <td>0</td>\n",
       "    </tr>\n",
       "    <tr>\n",
       "      <th>1</th>\n",
       "      <td>01</td>\n",
       "      <td>14/05/2020</td>\n",
       "      <td>656955</td>\n",
       "      <td>9</td>\n",
       "      <td>440</td>\n",
       "      <td>1,37</td>\n",
       "      <td>2,05</td>\n",
       "      <td>66,98</td>\n",
       "      <td>0</td>\n",
       "    </tr>\n",
       "    <tr>\n",
       "      <th>2</th>\n",
       "      <td>01</td>\n",
       "      <td>15/05/2020</td>\n",
       "      <td>656955</td>\n",
       "      <td>5</td>\n",
       "      <td>454</td>\n",
       "      <td>0,76</td>\n",
       "      <td>1,1</td>\n",
       "      <td>69,11</td>\n",
       "      <td>0</td>\n",
       "    </tr>\n",
       "    <tr>\n",
       "      <th>3</th>\n",
       "      <td>01</td>\n",
       "      <td>16/05/2020</td>\n",
       "      <td>656955</td>\n",
       "      <td>0</td>\n",
       "      <td>151</td>\n",
       "      <td>0</td>\n",
       "      <td>0</td>\n",
       "      <td>22,98</td>\n",
       "      <td>0</td>\n",
       "    </tr>\n",
       "    <tr>\n",
       "      <th>4</th>\n",
       "      <td>01</td>\n",
       "      <td>17/05/2020</td>\n",
       "      <td>656955</td>\n",
       "      <td>0</td>\n",
       "      <td>32</td>\n",
       "      <td>0</td>\n",
       "      <td>0</td>\n",
       "      <td>4,87</td>\n",
       "      <td>0</td>\n",
       "    </tr>\n",
       "  </tbody>\n",
       "</table>\n",
       "</div>"
      ],
      "text/plain": [
       "  dep        jour     pop  P    T    Ti    Tp     Td  cl_age90\n",
       "0  01  13/05/2020  656955  9  340  1,37  2,65  51,75         0\n",
       "1  01  14/05/2020  656955  9  440  1,37  2,05  66,98         0\n",
       "2  01  15/05/2020  656955  5  454  0,76   1,1  69,11         0\n",
       "3  01  16/05/2020  656955  0  151     0     0  22,98         0\n",
       "4  01  17/05/2020  656955  0   32     0     0   4,87         0"
      ]
     },
     "execution_count": 4,
     "metadata": {},
     "output_type": "execute_result"
    }
   ],
   "source": [
    "data = pd.read_csv('../raw_data/sp-dep-jour-2023-06-30-16h26.csv', sep=';')\n",
    "data.head()"
   ]
  },
  {
   "cell_type": "code",
   "execution_count": 5,
   "metadata": {},
   "outputs": [],
   "source": [
    "for name in ['Ti','Td','Tp']:\n",
    "    data[name] = data[name].str.replace(',', '.')\n",
    "    data[name] = data[name].astype(float)"
   ]
  },
  {
   "cell_type": "code",
   "execution_count": 6,
   "metadata": {},
   "outputs": [
    {
     "name": "stderr",
     "output_type": "stream",
     "text": [
      "C:\\Users\\Guillaume\\AppData\\Local\\Temp\\ipykernel_13056\\558924983.py:3: UserWarning: Parsing dates in %d/%m/%Y format when dayfirst=False (the default) was specified. Pass `dayfirst=True` or specify a format to silence this warning.\n",
      "  df['date'] = pd.to_datetime(data['jour'])\n"
     ]
    },
    {
     "data": {
      "text/html": [
       "<div>\n",
       "<style scoped>\n",
       "    .dataframe tbody tr th:only-of-type {\n",
       "        vertical-align: middle;\n",
       "    }\n",
       "\n",
       "    .dataframe tbody tr th {\n",
       "        vertical-align: top;\n",
       "    }\n",
       "\n",
       "    .dataframe thead th {\n",
       "        text-align: right;\n",
       "    }\n",
       "</style>\n",
       "<table border=\"1\" class=\"dataframe\">\n",
       "  <thead>\n",
       "    <tr style=\"text-align: right;\">\n",
       "      <th></th>\n",
       "      <th>date</th>\n",
       "      <th>P</th>\n",
       "      <th>T</th>\n",
       "      <th>Ti</th>\n",
       "      <th>Tp</th>\n",
       "      <th>Td</th>\n",
       "      <th>pop</th>\n",
       "    </tr>\n",
       "  </thead>\n",
       "  <tbody>\n",
       "    <tr>\n",
       "      <th>0</th>\n",
       "      <td>2020-05-13</td>\n",
       "      <td>889</td>\n",
       "      <td>39287</td>\n",
       "      <td>1.135490</td>\n",
       "      <td>2.275000</td>\n",
       "      <td>54.462255</td>\n",
       "      <td>67099037</td>\n",
       "    </tr>\n",
       "    <tr>\n",
       "      <th>1</th>\n",
       "      <td>2020-05-14</td>\n",
       "      <td>1001</td>\n",
       "      <td>42653</td>\n",
       "      <td>1.284902</td>\n",
       "      <td>2.294608</td>\n",
       "      <td>59.428333</td>\n",
       "      <td>67099037</td>\n",
       "    </tr>\n",
       "  </tbody>\n",
       "</table>\n",
       "</div>"
      ],
      "text/plain": [
       "        date     P      T        Ti        Tp         Td       pop\n",
       "0 2020-05-13   889  39287  1.135490  2.275000  54.462255  67099037\n",
       "1 2020-05-14  1001  42653  1.284902  2.294608  59.428333  67099037"
      ]
     },
     "execution_count": 6,
     "metadata": {},
     "output_type": "execute_result"
    }
   ],
   "source": [
    "df = data.copy()\n",
    "df = df.fillna(0)\n",
    "df['date'] = pd.to_datetime(data['jour'])\n",
    "df.drop(['dep','jour','cl_age90'], axis=1, inplace=True)\n",
    "df = df.groupby('date').agg({'P':'sum', 'T':'sum','Ti':'mean', 'Tp':'mean','Td':'mean', 'pop':'sum'}).reset_index()\n",
    "df.head(2)"
   ]
  },
  {
   "cell_type": "code",
   "execution_count": 7,
   "metadata": {},
   "outputs": [],
   "source": [
    "df['P7'] = df['P'].rolling(window=7).mean()\n",
    "df['T7'] = df['T'].rolling(window=7).mean()"
   ]
  },
  {
   "cell_type": "code",
   "execution_count": 9,
   "metadata": {},
   "outputs": [],
   "source": [
    "df.to_csv('../preprocessed_data/epidemic_state.csv', index=False)"
   ]
  },
  {
   "cell_type": "code",
   "execution_count": null,
   "metadata": {},
   "outputs": [],
   "source": []
  }
 ],
 "metadata": {
  "kernelspec": {
   "display_name": "data_viz",
   "language": "python",
   "name": "python3"
  },
  "language_info": {
   "codemirror_mode": {
    "name": "ipython",
    "version": 3
   },
   "file_extension": ".py",
   "mimetype": "text/x-python",
   "name": "python",
   "nbconvert_exporter": "python",
   "pygments_lexer": "ipython3",
   "version": "3.11.7"
  }
 },
 "nbformat": 4,
 "nbformat_minor": 2
}
